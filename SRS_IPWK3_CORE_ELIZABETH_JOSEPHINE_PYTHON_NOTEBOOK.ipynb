{
  "nbformat": 4,
  "nbformat_minor": 0,
  "metadata": {
    "colab": {
      "name": "SRS_IPWK3_CORE_ELIZABETH_JOSEPHINE_PYTHON_NOTEBOOK",
      "provenance": [],
      "collapsed_sections": [],
      "authorship_tag": "ABX9TyPDrpRnq3FOWyvpjQgCprel",
      "include_colab_link": true
    },
    "kernelspec": {
      "name": "python3",
      "display_name": "Python 3"
    }
  },
  "cells": [
    {
      "cell_type": "markdown",
      "metadata": {
        "id": "view-in-github",
        "colab_type": "text"
      },
      "source": [
        "<a href=\"https://colab.research.google.com/github/alfafimel/IPWK3-CORE/blob/main/SRS_IPWK3_CORE_ELIZABETH_JOSEPHINE_PYTHON_NOTEBOOK.ipynb\" target=\"_parent\"><img src=\"https://colab.research.google.com/assets/colab-badge.svg\" alt=\"Open In Colab\"/></a>"
      ]
    },
    {
      "cell_type": "code",
      "metadata": {
        "id": "CkfSRMKYkhT0"
      },
      "source": [
        "# importing libraries\n",
        "import pandas as pd\n",
        "import numpy as np\n",
        "import random"
      ],
      "execution_count": null,
      "outputs": []
    },
    {
      "cell_type": "code",
      "metadata": {
        "id": "lXGYoYVs3ujz",
        "colab": {
          "base_uri": "https://localhost:8080/",
          "height": 198
        },
        "outputId": "8eeecee5-5079-4ab4-9521-433fa4b348f4"
      },
      "source": [
        "# reading in the dataset\n",
        "url = 'http://bit.ly/MedicalCitiesIncomeDataset'\n",
        "df = pd.read_csv(url)\n",
        "df.head()"
      ],
      "execution_count": null,
      "outputs": [
        {
          "output_type": "execute_result",
          "data": {
            "text/html": [
              "<div>\n",
              "<style scoped>\n",
              "    .dataframe tbody tr th:only-of-type {\n",
              "        vertical-align: middle;\n",
              "    }\n",
              "\n",
              "    .dataframe tbody tr th {\n",
              "        vertical-align: top;\n",
              "    }\n",
              "\n",
              "    .dataframe thead th {\n",
              "        text-align: right;\n",
              "    }\n",
              "</style>\n",
              "<table border=\"1\" class=\"dataframe\">\n",
              "  <thead>\n",
              "    <tr style=\"text-align: right;\">\n",
              "      <th></th>\n",
              "      <th>Number</th>\n",
              "      <th>City</th>\n",
              "      <th>Gender</th>\n",
              "      <th>Age</th>\n",
              "      <th>Income</th>\n",
              "      <th>Illness</th>\n",
              "    </tr>\n",
              "  </thead>\n",
              "  <tbody>\n",
              "    <tr>\n",
              "      <th>0</th>\n",
              "      <td>1</td>\n",
              "      <td>Dallas</td>\n",
              "      <td>Male</td>\n",
              "      <td>41</td>\n",
              "      <td>40367.0</td>\n",
              "      <td>No</td>\n",
              "    </tr>\n",
              "    <tr>\n",
              "      <th>1</th>\n",
              "      <td>2</td>\n",
              "      <td>Dallas</td>\n",
              "      <td>Male</td>\n",
              "      <td>54</td>\n",
              "      <td>45084.0</td>\n",
              "      <td>No</td>\n",
              "    </tr>\n",
              "    <tr>\n",
              "      <th>2</th>\n",
              "      <td>3</td>\n",
              "      <td>Dallas</td>\n",
              "      <td>Male</td>\n",
              "      <td>42</td>\n",
              "      <td>52483.0</td>\n",
              "      <td>No</td>\n",
              "    </tr>\n",
              "    <tr>\n",
              "      <th>3</th>\n",
              "      <td>4</td>\n",
              "      <td>Dallas</td>\n",
              "      <td>Male</td>\n",
              "      <td>40</td>\n",
              "      <td>40941.0</td>\n",
              "      <td>No</td>\n",
              "    </tr>\n",
              "    <tr>\n",
              "      <th>4</th>\n",
              "      <td>5</td>\n",
              "      <td>Dallas</td>\n",
              "      <td>Male</td>\n",
              "      <td>46</td>\n",
              "      <td>50289.0</td>\n",
              "      <td>No</td>\n",
              "    </tr>\n",
              "  </tbody>\n",
              "</table>\n",
              "</div>"
            ],
            "text/plain": [
              "   Number    City Gender  Age   Income Illness\n",
              "0       1  Dallas   Male   41  40367.0      No\n",
              "1       2  Dallas   Male   54  45084.0      No\n",
              "2       3  Dallas   Male   42  52483.0      No\n",
              "3       4  Dallas   Male   40  40941.0      No\n",
              "4       5  Dallas   Male   46  50289.0      No"
            ]
          },
          "metadata": {
            "tags": []
          },
          "execution_count": 2
        }
      ]
    },
    {
      "cell_type": "code",
      "metadata": {
        "id": "rZ7qlZui7UGe",
        "colab": {
          "base_uri": "https://localhost:8080/",
          "height": 35
        },
        "outputId": "0073fa93-2b1f-4655-bc04-6bb1c1705413"
      },
      "source": [
        "# determining size of the data\n",
        "df.shape"
      ],
      "execution_count": null,
      "outputs": [
        {
          "output_type": "execute_result",
          "data": {
            "text/plain": [
              "(150000, 6)"
            ]
          },
          "metadata": {
            "tags": []
          },
          "execution_count": 3
        }
      ]
    },
    {
      "cell_type": "code",
      "metadata": {
        "id": "a1VR4tZ-uguy",
        "colab": {
          "base_uri": "https://localhost:8080/",
          "height": 581
        },
        "outputId": "4f1cdc54-7d8a-41d8-d5a2-d99fc75380eb"
      },
      "source": [
        "# Selecting the sample \n",
        "df1 = df.sample(n = 30, replace=\"False\")\n",
        "print(df1)"
      ],
      "execution_count": null,
      "outputs": [
        {
          "output_type": "stream",
          "text": [
            "        Number             City  Gender  Age    Income Illness\n",
            "128912  128913  Washington D.C.  Female   64   75349.0      No\n",
            "127603  127604  Washington D.C.    Male   37   82051.0      No\n",
            "133200  133201        San Diego    Male   31   93887.0      No\n",
            "118462  118463           Boston  Female   39   81846.0      No\n",
            "46836    46837    New York City    Male   42   99863.0      No\n",
            "6127      6128           Dallas  Female   45   48132.0      No\n",
            "145826  145827           Austin    Male   42   98141.0      No\n",
            "41222    41223    New York City    Male   31   96900.0      No\n",
            "118194  118195           Boston    Male   52  101313.0      No\n",
            "21928    21929    New York City  Female   55  109374.0      No\n",
            "142735  142736           Austin    Male   57   89664.0      No\n",
            "5033      5034           Dallas  Female   51   48714.0      No\n",
            "27782    27783    New York City    Male   58  109619.0      No\n",
            "44469    44470    New York City    Male   30  112006.0      No\n",
            "23666    23667    New York City    Male   56  103877.0      No\n",
            "118091  118092           Boston    Male   48  103688.0      No\n",
            "135060  135061        San Diego  Female   31   89830.0      No\n",
            "90326    90327      Los Angeles  Female   53   74583.0      No\n",
            "11112    11113           Dallas    Male   38   42278.0      No\n",
            "57870    57871    New York City    Male   30   98568.0      No\n",
            "113936  113937    Mountain View  Female   34  116064.0     Yes\n",
            "105615  105616    Mountain View    Male   27  145136.0      No\n",
            "90776    90777      Los Angeles    Male   48   89607.0      No\n",
            "146441  146442           Austin    Male   38   81106.0      No\n",
            "46375    46376    New York City    Male   37  104520.0     Yes\n",
            "43562    43563    New York City  Female   47  102448.0     Yes\n",
            "139903  139904           Austin    Male   62   96600.0      No\n",
            "112324  112325    Mountain View    Male   46  140547.0      No\n",
            "115846  115847    Mountain View    Male   26  115013.0     Yes\n",
            "65299    65300    New York City    Male   48  107713.0      No\n"
          ],
          "name": "stdout"
        }
      ]
    }
  ]
}